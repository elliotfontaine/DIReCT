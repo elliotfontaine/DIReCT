{
  "nbformat": 4,
  "nbformat_minor": 0,
  "metadata": {
    "colab": {
      "provenance": [],
      "include_colab_link": true
    },
    "kernelspec": {
      "name": "ir",
      "display_name": "R"
    },
    "language_info": {
      "name": "R"
    }
  },
  "cells": [
    {
      "cell_type": "markdown",
      "metadata": {
        "id": "view-in-github",
        "colab_type": "text"
      },
      "source": [
        "<a href=\"https://colab.research.google.com/github/elliotfontaine/DIReCT/blob/main/Data_processing_R.ipynb\" target=\"_parent\"><img src=\"https://colab.research.google.com/assets/colab-badge.svg\" alt=\"Open In Colab\"/></a>"
      ]
    },
    {
      "cell_type": "markdown",
      "source": [
        "# Data Processing"
      ],
      "metadata": {
        "id": "kQ6Y227bY9XM"
      }
    },
    {
      "cell_type": "markdown",
      "source": [
        "We're trying to make an image out of single-cell transcriptomics data."
      ],
      "metadata": {
        "id": "GF3ajbd3ZlIm"
      }
    },
    {
      "cell_type": "code",
      "execution_count": null,
      "metadata": {
        "id": "oBIgsXPhYc5L"
      },
      "outputs": [],
      "source": []
    },
    {
      "cell_type": "markdown",
      "source": [
        "Voici une deuxième zone de texte. Et la encore"
      ],
      "metadata": {
        "id": "pl0P9weUaIHn"
      }
    }
  ]
}